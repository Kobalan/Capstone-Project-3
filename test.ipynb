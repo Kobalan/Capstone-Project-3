{
 "cells": [
  {
   "cell_type": "code",
   "execution_count": 1,
   "metadata": {},
   "outputs": [],
   "source": [
    "import pandas as pd\n",
    "import mysql.connector as sql\n",
    "import pymongo as py"
   ]
  },
  {
   "cell_type": "code",
   "execution_count": 2,
   "metadata": {},
   "outputs": [],
   "source": [
    "client=py.MongoClient('mongodb://localhost:27017')\n",
    "db=client['AirBNB']"
   ]
  },
  {
   "cell_type": "markdown",
   "metadata": {},
   "source": [
    "### 1.Room DataFrame"
   ]
  },
  {
   "cell_type": "code",
   "execution_count": 3,
   "metadata": {},
   "outputs": [],
   "source": [
    "data_List1=[]\n",
    "\n",
    "for i in db.Data.find( {}, {'_id':1,'name':1,'property_type':1,'room_type':1,'bed_type':1,\n",
    "                        'minimum_nights':1,'maximum_nights':1,'cancellation_policy':1,'accommodates':1,\n",
    "                        'bedrooms':1,'beds':1,'number_of_reviews':1,'bathrooms':1,'price':1,\n",
    "                        'cleaning_fee':1,'extra_people':1,'guests_included':1,\n",
    "                        'review_scores.review_scores_rating':1} ):\n",
    "    data_List1.append(i)\n",
    "\n",
    "df_ROOMS=pd.DataFrame(data_List1)\n",
    "# print(df_ROOMS.head())"
   ]
  },
  {
   "cell_type": "code",
   "execution_count": 4,
   "metadata": {},
   "outputs": [
    {
     "name": "stdout",
     "output_type": "stream",
     "text": [
      "Total No. oF Null Values in the DataFrame\n",
      "_id                       0\n",
      "name                      0\n",
      "property_type             0\n",
      "room_type                 0\n",
      "bed_type                  0\n",
      "minimum_nights            0\n",
      "maximum_nights            0\n",
      "cancellation_policy       0\n",
      "accommodates              0\n",
      "bedrooms                  5\n",
      "beds                     13\n",
      "number_of_reviews         0\n",
      "bathrooms                10\n",
      "price                     0\n",
      "cleaning_fee           1531\n",
      "extra_people              0\n",
      "guests_included           0\n",
      "review_scores             0\n",
      "dtype: int64\n"
     ]
    }
   ],
   "source": [
    "print(\"Total No. oF Null Values in the DataFrame\")\n",
    "print(df_ROOMS.isnull().sum())"
   ]
  },
  {
   "cell_type": "code",
   "execution_count": 5,
   "metadata": {},
   "outputs": [
    {
     "name": "stdout",
     "output_type": "stream",
     "text": [
      "_id                    0\n",
      "name                   0\n",
      "property_type          0\n",
      "room_type              0\n",
      "bed_type               0\n",
      "minimum_nights         0\n",
      "maximum_nights         0\n",
      "cancellation_policy    0\n",
      "accommodates           0\n",
      "bedrooms               0\n",
      "beds                   0\n",
      "number_of_reviews      0\n",
      "bathrooms              0\n",
      "price                  0\n",
      "cleaning_fee           0\n",
      "extra_people           0\n",
      "guests_included        0\n",
      "review_scores          0\n",
      "dtype: int64\n"
     ]
    }
   ],
   "source": [
    "df_ROOMS.fillna({'bedrooms':0},inplace=True)\n",
    "df_ROOMS.fillna({'beds':0},inplace=True)\n",
    "df_ROOMS.fillna({'bathrooms':0},inplace=True)\n",
    "df_ROOMS.fillna({'cleaning_fee':0},inplace=True)\n",
    "df_ROOMS['review_scores'] = df_ROOMS['review_scores'].apply(lambda x: x.get('review_scores_rating',0))\n",
    "print(df_ROOMS.isnull().sum())"
   ]
  },
  {
   "cell_type": "code",
   "execution_count": 6,
   "metadata": {},
   "outputs": [
    {
     "name": "stdout",
     "output_type": "stream",
     "text": [
      "Column Name: _id\n",
      "['1003530' '10133554' '10059872' ... '9887054' '9907907' '9936016']\n",
      "************************\n",
      "Column Name: name\n",
      "['New York City - Upper West Side Apt'\n",
      " 'Double and triple rooms Blue mosque'\n",
      " 'Soho Cozy, Spacious and Convenient' ...\n",
      " 'Quarry Bay fully furnished studio C' 'Large double room in Bondi'\n",
      " 'Alugo Apartamento na Tijuca']\n",
      "************************\n",
      "Column Name: property_type\n",
      "['Apartment' 'Bed and breakfast' 'Guesthouse' 'Hostel'\n",
      " 'Serviced apartment' 'Loft' 'House' 'Condominium' 'Treehouse'\n",
      " 'Guest suite' 'Bungalow' 'Townhouse' 'Villa' 'Cabin' 'Other' 'Farm stay'\n",
      " 'Chalet' 'Boutique hotel' 'Cottage' 'Boat' 'Earth house' 'Aparthotel'\n",
      " 'Resort' 'Tiny house' 'Nature lodge' 'Hotel' 'Camper/RV'\n",
      " 'Casa particular (Cuba)' 'Barn' 'Hut' 'Heritage hotel (India)'\n",
      " 'Pension (South Korea)' 'Campsite' 'Castle' 'Houseboat' 'Train']\n",
      "************************\n",
      "Column Name: room_type\n",
      "['Private room' 'Entire home/apt' 'Shared room']\n",
      "************************\n",
      "Column Name: bed_type\n",
      "['Real Bed' 'Futon' 'Pull-out Sofa' 'Airbed' 'Couch']\n",
      "************************\n",
      "Column Name: minimum_nights\n",
      "['12' '1' '4' '10' '2' '14' '3' '7' '15' '5' '21' '200' '30' '28' '32'\n",
      " '60' '31' '179' '6' '8' '180' '35' '13' '20' '160' '90' '16' '45' '27'\n",
      " '40' '29' '9' '96' '26' '25' '11' '365' '115' '100' '22' '300' '120' '80'\n",
      " '1250' '50']\n",
      "************************\n",
      "Column Name: maximum_nights\n",
      "['360' '1125' '20' '500' '21' '10' '75' '180' '7' '30' '9' '365' '15'\n",
      " '120' '6' '300' '1124' '90' '28' '25' '60' '45' '89' '3' '100' '40'\n",
      " '1120' '2147483647' '29' '32' '1123' '330' '730' '50' '179' '1100' '2'\n",
      " '5' '270' '31' '150' '1825' '600' '14' '356' '334' '92' '23' '4' '18'\n",
      " '80' '59' '8' '450' '22' '200' '61' '36' '5000' '33' '24' '1000' '99'\n",
      " '13' '19' '350' '190' '26' '12' '160' '364' '999' '355' '900' '16' '1117'\n",
      " '27' '1095' '114' '333333' '1109' '1126' '181' '37' '56' '35' '700'\n",
      " '1234567890' '112' '62' '548' '65' '1001' '366' '17' '1' '1111' '10000'\n",
      " '371' '11' '1003' '720' '64' '184' '140' '70' '91' '103' '760' '34' '69'\n",
      " '1110' '41' '93' '250' '1121' '185' '39' '130' '225' '352' '85' '240'\n",
      " '170' '1086' '1084' '182' '1250' '79' '55' '395' '2800' '305' '660' '408'\n",
      " '390' '400' '137' '800' '224']\n",
      "************************\n",
      "Column Name: cancellation_policy\n",
      "['strict_14_with_grace_period' 'moderate' 'flexible' 'super_strict_30'\n",
      " 'super_strict_60']\n",
      "************************\n",
      "Column Name: accommodates\n",
      "[ 2  3  1  4  5  6  8  9 14 11 10  7 12 16 13 15]\n",
      "************************\n",
      "Column Name: bedrooms\n",
      "[ 1.  0.  3.  2.  4.  6.  5.  9.  7. 20. 10.  8. 15.]\n",
      "************************\n",
      "Column Name: beds\n",
      "[ 1.  2.  3.  4.  8.  5.  6. 10.  0.  7. 15.  9. 14. 25. 13. 12. 11. 18.\n",
      " 16.]\n",
      "************************\n",
      "Column Name: number_of_reviews\n",
      "[ 70  29   3  81  64   0   1 239 178  12   9 109 123  51  96   5  27  62\n",
      " 162  22  24  61   8   4  32 117 225  45 103 139 114 135  13  31 167   2\n",
      "  10  18  77 132  71 145  19  11 115  46 110 179 104  99 146  65 126  20\n",
      "  17 122   6  84  34 191  60 125  86  89 241  72  15 184 137  44 203 119\n",
      "  21 215 105 199 206   7 130  26 129  28 230 112  41 380 108 211  94  37\n",
      "  57  43  87  54 163  23  35  58 229  42  16  38 385  33  36 180  25  76\n",
      "  95 207  75 107 217 269 213 176  93  39 291 165  14  79  55 157 188  90\n",
      " 210  66  53  73 193  52  88 133  47  49 212 128  67 399 469 181 227  30\n",
      " 257  85 231  83 127 391 161 320 120 111  97  40  69  80  48  92  68 186\n",
      " 221 101 197 149 106 131 116  91  56 190 280  78 397 124 150  50  63 226\n",
      " 121  82 100 156 144 192 141  59 152 138 159 102 261 219 348 189 196 171\n",
      " 183 169  74 147 308 175 140 151 379 202 232 177 143 289 174 204 164 113\n",
      " 134 304 208 259 402 195 275 160 249 166 533 270 185 248 173 255 420 223\n",
      " 168 258 216 265 408 142 246 155 273 312 148 236 153 118 182 240  98 136\n",
      " 170 237 262 154 218 351 463]\n",
      "************************\n",
      "Column Name: bathrooms\n",
      "[ 1.   1.5  2.   4.   2.5  3.   3.5  7.   5.   6.   0.   4.5  0.5  8.\n",
      " 16.   5.5  9. ]\n",
      "************************\n",
      "Column Name: price\n",
      "[  135   121   699   181    40   145    45   119    43   933   317   140\n",
      "   838    30   275   250   361   858   185    50   150    46   701    80\n",
      "   527   115   997   205    58   149    34   487   499   966   380   400\n",
      "   330   264   298   117   798    36   746   220   180    64  1999    95\n",
      "    71   175    31   212   399   105   795   120    55   144   395   269\n",
      "    29   100   139    20    35   112   351   325    72   999    37   101\n",
      "   137    85   229   801   353   138   479  2499   169   129   125    60\n",
      "  3726   385   417    65    89    90   451   685   211    15   187  1146\n",
      "  2748  1703  1484   134    53   172   500    47   447   128   597   110\n",
      "    99   189    91   463   359    59   200    21   209    84   130   306\n",
      "   239   227   109  1000   518   190   761   188   350   161    25   148\n",
      "   246   225   506    75    70   633   895   548   234   793   461   179\n",
      "    79   348   283   550   133   267   903   424    48    52   142    38\n",
      "   124    42  1492   171  3499   108   502   345   151   131   155   650\n",
      "   240   165    68    87   158   242   314   691   599   199   564   255\n",
      "  3301  1600  1201   132    49   280   127   174   322   475  1303  3544\n",
      "   595   560    61   160   951   231   369    69   221   679  5595   311\n",
      "    56    94   630   559  1701    97   349   589   287    81  2201    82\n",
      "    88    67   245   195    39   448   799   420   324   168   198  2496\n",
      "   299  1099   805   300   208    18  2802  1529    78   277    32   569\n",
      "    63   578   249   416   765   604    73   152   295   243   370  1044\n",
      "  1865   988   261   375   230    33   373  1119   102  1306   201   116\n",
      "   254   118    17   848   425  1751   104  2238    14   103    62   177\n",
      "   591   338   785  1350   164   196   123    26   153   159   290   557\n",
      "   114    54   450   215  1213   596   486   899    86   800   259   320\n",
      "   257 11190   601    22   538   305   528   471   449   154    76    24\n",
      "    51    27   157  1186    74   634  1160   935   329    98   184   390\n",
      "     9   749 11681  1105   312   218   590  1055   689   265   459   310\n",
      "   950    44   276   573   170   429   143   228    23  1374  1499  1562\n",
      "   248   440   319  2000    93   675  1500   194  1200  1397   296   260\n",
      "  1100   652  1660   210   722   347   402   226   301   714   203   251\n",
      "   495   316   146   554    92   268   692   422   659    19   236  1746\n",
      "   436   285   494   377   981   439   635   442   555   754   166   620\n",
      "   695   213   469   501   224   237   551   111    83    77   141   197\n",
      "   315   343   600   291   156    13   321  2002   581   107   106   274\n",
      "   256   649    96   328   683  1248   113   850    66   751   173   419\n",
      "    41  1250   191   355  6002   219   871   247   360  2999  1389 48842\n",
      "   619    10   232  2450   235  1107   136   879   510  4745  2661   258\n",
      "   178   776   541   405  1178   204  1295   777   270   340   849   308\n",
      "  2292   864   750  2611   690   470  5502  1321   526   612 10001   393\n",
      "   671  2356   632  4498   460    16  3730   392   216   534  1802  1994\n",
      "  1515  2974  1444    28    57   509  1680   833   628   284   856  1978\n",
      "  1287   542   453  1083   989  7203   654    12  1900   786  4828   489\n",
      "   206  3399   668   725   643   401   163  1601  1021   222   455   182\n",
      "   334   307   472   522  1719   279   700  2007   769   331  1586   791\n",
      "   406   667   289   496   364  2060  4103  4761   408   413   244   571\n",
      "   918  1550  1947  2979  1170   832   292   533   253   438   954   428\n",
      "   824  1240   902  1963   644   418   738   698   464  1382  2700  1060\n",
      "  3000   515   745  1853   281   520   575   326   553  1192  1123  1798\n",
      "   397   891   262  1698   266   427   341   886   637   423   627  2378\n",
      "  1005   443   167   474  1052   466  2301   421   536   432  2300  3250\n",
      "   511  1190  2083  1217  1399  2636   887   623  1319  3253   336   705\n",
      "   384   525   576   147  7002  1313   480   834   809   238   540   717\n",
      "  1162   485  1891   482  1790   430  1782   565   890   192   327  1175\n",
      "   387]\n",
      "************************\n",
      "Column Name: cleaning_fee\n",
      "[ 135.    0.   50.   60.  150.  187.   10.   15.   35.  112.  120.  250.\n",
      "  211.  100.   30.   25.   99.  118.   26.  180.  373.   59.  130.   20.\n",
      "   90.   80.  185.  345.  300.   85.    7.   12.  160.  380.   95.  140.\n",
      "  298.  500.   40.  237.  200.  285.  400.   93.   75.  350.  125.  169.\n",
      "   69.   65.  193.  270.  240.  155.   70.    5.  156.  600.   19.  141.\n",
      "   55.  175.  131.  942.   45.  260.  107.  157.  199.  124.  242.  153.\n",
      "  170.  165.  119.   16.  168.  264.  215.   79.   42.  115.  268.   29.\n",
      "  329.   37.  399.  225.  560.    6.   98.   48.  145.  105.  204.  578.\n",
      "  111.  336.  275.  110.   63.  261.   94.   23.  174.  132.  448.  332.\n",
      "   56.   84.  450.    8.  290.   17.   53.  596.  325. 2000.  304.  149.\n",
      "  208.  269.   24.  324.  422.   89.  254.  256.  467.  220.  308.  295.\n",
      "  650.   74.   49.  196.   39.   68.   36.  116.  106.  910.  178.   28.\n",
      "   22.  210.   46.  280.  190.  129.  102.  235.  257.  121.  158.  108.\n",
      "  390.  420.  195.  128.   78.   62.  188.    9.  293.   11.   18.  385.\n",
      "  480.  424.  179.   87.  470.  425.   33.  218.  548.    4.   71.  148.\n",
      "   54.  253.   27.  209.  599.  194.  172.   88.  338.  231.   73.  227.\n",
      "  236.  418.  139.  393.  320.   91.  319.   96.  330.  693.  104.  234.\n",
      "  126.   32.   47.   52.  471.  230.  520.  114.  109.  306.  117.   77.\n",
      "   58.   92.  341.  800.  360.  335.  286.  263.  273.  312.  491.   51.\n",
      "  359.   41.  617.  214.   38.   86.  475.   31.   57.  375.  366.  296.\n",
      "  259. 1000.   34.  333.  224.  262.  339.  349.  567.  465.   14.  206.\n",
      "  154.  363.  302.  507.  173.  314.   83.  580.  685.  232.  127.  243.\n",
      "  137.  346.  328.  238.  419.  317.  205.  340.  495.  101.  159.  850.\n",
      " 1200.  284.  416.  166.   82.  167.  506.   64.  575.  750.  219.   66.\n",
      "  299.  289.  315.]\n",
      "************************\n",
      "Column Name: extra_people\n",
      "[   0  100   25   10   40   12  130   75   15  211   31   60   53   50\n",
      "   20  187   19  112  300   35    7   42   36  160   70  150   30    8\n",
      "  500   89   80   45   48  200  199   22   79   34  105   65   90  131\n",
      "  560  134   17    9  264  107   55   39    5   37   28 1000   26  119\n",
      "   49   18  158  140  900  179   72   83   11 1119   27  277  220  393\n",
      "  120    4   58   97  180   44   52   63  149  145  550   73   85   29\n",
      "   13   84   95  584  170  769   24  110   21  250    6   23   14   76\n",
      "  270  186  101   59  117  314   16   93  223  157  280  542  125  127\n",
      "   32  968  132 2346  600  800  175  530  208   77  392  506  118   87\n",
      "   46  590   54  230   66  102   98  255  350   68  240  198]\n",
      "************************\n",
      "Column Name: guests_included\n",
      "[ 1  2  3  4  6  8 10  5  7 12  9 13 15 16]\n",
      "************************\n",
      "Column Name: review_scores\n",
      "[ 94  92 100  95   0  98  67  97  96  90  80  99  89  84  88  83  73  93\n",
      "  91  60  71  78  82  87  76  70  65  86  85  81  40  77  69  75  74  72\n",
      "  79  20  50  53  68  64]\n",
      "************************\n"
     ]
    }
   ],
   "source": [
    "for Col in df_ROOMS.columns:\n",
    "    print(\"Column Name:\",Col)\n",
    "    print(df_ROOMS[Col].unique())\n",
    "    print(\"************************\")"
   ]
  },
  {
   "cell_type": "code",
   "execution_count": 7,
   "metadata": {},
   "outputs": [],
   "source": [
    "df_ROOMS['minimum_nights']=df_ROOMS['minimum_nights'].astype(int)\n",
    "df_ROOMS['maximum_nights']=df_ROOMS['maximum_nights'].astype(int)\n",
    "df_ROOMS['bedrooms']=df_ROOMS['bedrooms'].astype(int)\n",
    "df_ROOMS['beds']=df_ROOMS['beds'].astype(int)\n",
    "df_ROOMS['bathrooms']=df_ROOMS['bathrooms'].astype(int)\n",
    "df_ROOMS['price']=df_ROOMS['price'].astype(int)\n",
    "df_ROOMS['cleaning_fee']=df_ROOMS['cleaning_fee'].apply(lambda x: int(x) if x!=0 else 'Not Specified')"
   ]
  },
  {
   "cell_type": "code",
   "execution_count": null,
   "metadata": {},
   "outputs": [
    {
     "name": "stdout",
     "output_type": "stream",
     "text": [
      "        _id                                              name  \\\n",
      "0   1003530               New York City - Upper West Side Apt   \n",
      "1  10133554               Double and triple rooms Blue mosque   \n",
      "2  10059872                Soho Cozy, Spacious and Convenient   \n",
      "3  10084023                 City center private room with bed   \n",
      "4  10091713  Surry Hills Studio - Your Perfect Base in Sydney   \n",
      "\n",
      "       property_type        room_type  bed_type  minimum_nights  \\\n",
      "0          Apartment     Private room  Real Bed              12   \n",
      "1  Bed and breakfast     Private room  Real Bed               1   \n",
      "2          Apartment  Entire home/apt  Real Bed               4   \n",
      "3         Guesthouse     Private room     Futon               1   \n",
      "4          Apartment  Entire home/apt  Real Bed              10   \n",
      "\n",
      "   maximum_nights          cancellation_policy  accommodates  bedrooms  beds  \\\n",
      "0             360  strict_14_with_grace_period             2         1     1   \n",
      "1            1125                     moderate             3         1     2   \n",
      "2              20                     flexible             3         1     2   \n",
      "3             500  strict_14_with_grace_period             1         1     1   \n",
      "4              21  strict_14_with_grace_period             2         0     1   \n",
      "\n",
      "   number_of_reviews  bathrooms  price   cleaning_fee  extra_people  \\\n",
      "0                 70          1    135            135             0   \n",
      "1                 29          1    121  Not Specified             0   \n",
      "2                  3          1    699  Not Specified             0   \n",
      "3                 81          1    181             50           100   \n",
      "4                 64          1    181             50             0   \n",
      "\n",
      "   guests_included  review_scores  \n",
      "0                1             94  \n",
      "1                1             92  \n",
      "2                1            100  \n",
      "3                1             92  \n",
      "4                1             95  \n",
      "[  135   121   699   181    40   145    45   119    43   933   317   140\n",
      "   838    30   275   250   361   858   185    50   150    46   701    80\n",
      "   527   115   997   205    58   149    34   487   499   966   380   400\n",
      "   330   264   298   117   798    36   746   220   180    64  1999    95\n",
      "    71   175    31   212   399   105   795   120    55   144   395   269\n",
      "    29   100   139    20    35   112   351   325    72   999    37   101\n",
      "   137    85   229   801   353   138   479  2499   169   129   125    60\n",
      "  3726   385   417    65    89    90   451   685   211    15   187  1146\n",
      "  2748  1703  1484   134    53   172   500    47   447   128   597   110\n",
      "    99   189    91   463   359    59   200    21   209    84   130   306\n",
      "   239   227   109  1000   518   190   761   188   350   161    25   148\n",
      "   246   225   506    75    70   633   895   548   234   793   461   179\n",
      "    79   348   283   550   133   267   903   424    48    52   142    38\n",
      "   124    42  1492   171  3499   108   502   345   151   131   155   650\n",
      "   240   165    68    87   158   242   314   691   599   199   564   255\n",
      "  3301  1600  1201   132    49   280   127   174   322   475  1303  3544\n",
      "   595   560    61   160   951   231   369    69   221   679  5595   311\n",
      "    56    94   630   559  1701    97   349   589   287    81  2201    82\n",
      "    88    67   245   195    39   448   799   420   324   168   198  2496\n",
      "   299  1099   805   300   208    18  2802  1529    78   277    32   569\n",
      "    63   578   249   416   765   604    73   152   295   243   370  1044\n",
      "  1865   988   261   375   230    33   373  1119   102  1306   201   116\n",
      "   254   118    17   848   425  1751   104  2238    14   103    62   177\n",
      "   591   338   785  1350   164   196   123    26   153   159   290   557\n",
      "   114    54   450   215  1213   596   486   899    86   800   259   320\n",
      "   257 11190   601    22   538   305   528   471   449   154    76    24\n",
      "    51    27   157  1186    74   634  1160   935   329    98   184   390\n",
      "     9   749 11681  1105   312   218   590  1055   689   265   459   310\n",
      "   950    44   276   573   170   429   143   228    23  1374  1499  1562\n",
      "   248   440   319  2000    93   675  1500   194  1200  1397   296   260\n",
      "  1100   652  1660   210   722   347   402   226   301   714   203   251\n",
      "   495   316   146   554    92   268   692   422   659    19   236  1746\n",
      "   436   285   494   377   981   439   635   442   555   754   166   620\n",
      "   695   213   469   501   224   237   551   111    83    77   141   197\n",
      "   315   343   600   291   156    13   321  2002   581   107   106   274\n",
      "   256   649    96   328   683  1248   113   850    66   751   173   419\n",
      "    41  1250   191   355  6002   219   871   247   360  2999  1389 48842\n",
      "   619    10   232  2450   235  1107   136   879   510  4745  2661   258\n",
      "   178   776   541   405  1178   204  1295   777   270   340   849   308\n",
      "  2292   864   750  2611   690   470  5502  1321   526   612 10001   393\n",
      "   671  2356   632  4498   460    16  3730   392   216   534  1802  1994\n",
      "  1515  2974  1444    28    57   509  1680   833   628   284   856  1978\n",
      "  1287   542   453  1083   989  7203   654    12  1900   786  4828   489\n",
      "   206  3399   668   725   643   401   163  1601  1021   222   455   182\n",
      "   334   307   472   522  1719   279   700  2007   769   331  1586   791\n",
      "   406   667   289   496   364  2060  4103  4761   408   413   244   571\n",
      "   918  1550  1947  2979  1170   832   292   533   253   438   954   428\n",
      "   824  1240   902  1963   644   418   738   698   464  1382  2700  1060\n",
      "  3000   515   745  1853   281   520   575   326   553  1192  1123  1798\n",
      "   397   891   262  1698   266   427   341   886   637   423   627  2378\n",
      "  1005   443   167   474  1052   466  2301   421   536   432  2300  3250\n",
      "   511  1190  2083  1217  1399  2636   887   623  1319  3253   336   705\n",
      "   384   525   576   147  7002  1313   480   834   809   238   540   717\n",
      "  1162   485  1891   482  1790   430  1782   565   890   192   327  1175\n",
      "   387]\n"
     ]
    }
   ],
   "source": [
    "print(df_ROOMS.head())"
   ]
  },
  {
   "cell_type": "markdown",
   "metadata": {},
   "source": [
    "### 2.Host DataFrame"
   ]
  },
  {
   "cell_type": "code",
   "execution_count": 9,
   "metadata": {},
   "outputs": [],
   "source": [
    "data_LIST2=[]\n",
    "for i in db.Data.find({},{'id':1,'host':1}):\n",
    "        data_LIST2.append(i)\n",
    "\n",
    "#Removing Unneccessary Data\n",
    "df_HOST= pd.DataFrame(data_LIST2)\n",
    "host_keys = list(df_HOST.iloc[0,1].keys())\n",
    "host_keys.remove('host_about')\n",
    "\n",
    "for i in host_keys:\n",
    "    if i == 'host_response_time':\n",
    "        df_HOST['host_response_time'] = df_HOST['host'].apply(lambda x: x['host_response_time'] if 'host_response_time' in x else 'Not Specified')\n",
    "    else:\n",
    "        df_HOST[i] = df_HOST['host'].apply(lambda x: x[i] if i in x and x[i]!='' else 'Not Specified')\n",
    "\n",
    "df_HOST.drop(columns=['host'], inplace=True)\n",
    "\n",
    "df_HOST[df_HOST['_id']=='10038496']\n",
    "df_HOST.drop(columns=['host_url','host_thumbnail_url','host_picture_url','host_is_superhost','host_has_profile_pic','host_listings_count','host_verifications'],axis=1,inplace=True)\n",
    "# df_HOST"
   ]
  },
  {
   "cell_type": "code",
   "execution_count": 10,
   "metadata": {},
   "outputs": [
    {
     "name": "stdout",
     "output_type": "stream",
     "text": [
      "        _id   host_id    host_name                      host_location  \\\n",
      "0   1003530    454250        Greta  New York, New York, United States   \n",
      "1  10133554  52004703  Mehmet Emin         Istanbul, İstanbul, Turkey   \n",
      "2  10059872  51624384     Giovanni               Hong Kong, Hong Kong   \n",
      "3  10084023  51744313           Yi                      United States   \n",
      "4  10091713  13764143          Ben         New South Wales, Australia   \n",
      "\n",
      "   host_response_time host_neighbourhood host_response_rate  \\\n",
      "0      within an hour      Not Specified                100   \n",
      "1  within a few hours      Not Specified                100   \n",
      "2       Not Specified               Soho      Not Specified   \n",
      "3      within an hour       Shek Kip Mei                100   \n",
      "4       Not Specified        Surry Hills      Not Specified   \n",
      "\n",
      "   host_identity_verified  host_total_listings_count  \n",
      "0                    True                          3  \n",
      "1                    True                          2  \n",
      "2                   False                          1  \n",
      "3                    True                          2  \n",
      "4                    True                          1  \n"
     ]
    }
   ],
   "source": [
    "print(df_HOST.head())"
   ]
  },
  {
   "cell_type": "code",
   "execution_count": 11,
   "metadata": {},
   "outputs": [
    {
     "name": "stdout",
     "output_type": "stream",
     "text": [
      "_id                          0\n",
      "host_id                      0\n",
      "host_name                    0\n",
      "host_location                0\n",
      "host_response_time           0\n",
      "host_neighbourhood           0\n",
      "host_response_rate           0\n",
      "host_identity_verified       0\n",
      "host_total_listings_count    0\n",
      "dtype: int64\n"
     ]
    }
   ],
   "source": [
    "print(df_HOST.isnull().sum())"
   ]
  },
  {
   "cell_type": "markdown",
   "metadata": {},
   "source": [
    "### 3.Address DataFrame"
   ]
  },
  {
   "cell_type": "code",
   "execution_count": 12,
   "metadata": {},
   "outputs": [],
   "source": [
    "data_LIST3=[]\n",
    "for i in db.Data.find({},{'id':1,'address':1}):\n",
    "    data_LIST3.append(i)\n",
    "\n",
    "df_ADDRESS=pd.DataFrame(data_LIST3)\n",
    "address_KEYS=list(df_ADDRESS.iloc[0,1].keys())\n",
    "\n",
    "\n",
    "# address_KEYS\n",
    "\n",
    "#Now we are going to split the address row into different row\n",
    "\n",
    "for i in address_KEYS:\n",
    "    if i == 'location':\n",
    "        df_ADDRESS['location_type'] = df_ADDRESS['address'].apply(lambda x: x['location']['type'])\n",
    "        df_ADDRESS['longitude'] = df_ADDRESS['address'].apply(lambda x: x['location']['coordinates'][0])\n",
    "        df_ADDRESS['latitude'] = df_ADDRESS['address'].apply(lambda x: x['location']['coordinates'][1])\n",
    "        #df_ADDRESS['is_location_exact'] = df_ADDRESS['address'].apply(lambda x: x['location']['is_location_exact'])\n",
    "    else:\n",
    "        df_ADDRESS[i] = df_ADDRESS['address'].apply(lambda x: x[i] if x[i]!='' else 'Not Specified')\n",
    "\n",
    "df_ADDRESS.drop(columns=['address','street'], inplace=True)\n"
   ]
  },
  {
   "cell_type": "code",
   "execution_count": 13,
   "metadata": {},
   "outputs": [
    {
     "name": "stdout",
     "output_type": "stream",
     "text": [
      "_id                0\n",
      "suburb             0\n",
      "government_area    0\n",
      "market             0\n",
      "country            0\n",
      "country_code       0\n",
      "location_type      0\n",
      "longitude          0\n",
      "latitude           0\n",
      "dtype: int64\n"
     ]
    }
   ],
   "source": [
    "print(df_ADDRESS.isnull().sum())"
   ]
  },
  {
   "cell_type": "code",
   "execution_count": 14,
   "metadata": {},
   "outputs": [
    {
     "name": "stdout",
     "output_type": "stream",
     "text": [
      "        _id                      suburb    government_area     market  \\\n",
      "0   1003530                   Manhattan    Upper West Side   New York   \n",
      "1  10133554                       Fatih              Fatih   Istanbul   \n",
      "2  10059872  Central & Western District  Central & Western  Hong Kong   \n",
      "3  10084023       Sham Shui Po District       Sham Shui Po  Hong Kong   \n",
      "4  10091713                Darlinghurst             Sydney     Sydney   \n",
      "\n",
      "         country country_code location_type  longitude  latitude  \n",
      "0  United States           US         Point  -73.96523  40.79962  \n",
      "1         Turkey           TR         Point   28.98009  41.00620  \n",
      "2      Hong Kong           HK         Point  114.15027  22.28158  \n",
      "3      Hong Kong           HK         Point  114.16690  22.33140  \n",
      "4      Australia           AU         Point  151.21554 -33.88029  \n"
     ]
    }
   ],
   "source": [
    "print(df_ADDRESS.head())"
   ]
  },
  {
   "cell_type": "markdown",
   "metadata": {},
   "source": [
    "### 4.Availability DataFrame"
   ]
  },
  {
   "cell_type": "code",
   "execution_count": 15,
   "metadata": {},
   "outputs": [
    {
     "name": "stdout",
     "output_type": "stream",
     "text": [
      "        _id  availability_30  availability_60  availability_90  \\\n",
      "0   1003530                0                0                0   \n",
      "1  10133554               30               60               90   \n",
      "2  10059872                0                0                0   \n",
      "3  10084023               14               24               40   \n",
      "4  10091713                0                0                0   \n",
      "\n",
      "   availability_365  \n",
      "0                93  \n",
      "1               365  \n",
      "2                 0  \n",
      "3               220  \n",
      "4                 0  \n"
     ]
    }
   ],
   "source": [
    "availability = []\n",
    "for i in db.Data.find( {}, {'_id':1, 'availability':1}):\n",
    "    availability.append(i)\n",
    "\n",
    "df_AVAILABILITY = pd.DataFrame(availability)\n",
    "availability_keys = list(df_AVAILABILITY.iloc[0,1].keys())\n",
    "\n",
    "\n",
    "for i in availability_keys:\n",
    "    df_AVAILABILITY['availability_30'] = df_AVAILABILITY['availability'].apply(lambda x: x['availability_30'])\n",
    "    df_AVAILABILITY['availability_60'] = df_AVAILABILITY['availability'].apply(lambda x: x['availability_60'])\n",
    "    df_AVAILABILITY['availability_90'] = df_AVAILABILITY['availability'].apply(lambda x: x['availability_90'])\n",
    "    df_AVAILABILITY['availability_365'] = df_AVAILABILITY['availability'].apply(lambda x: x['availability_365'])\n",
    "\n",
    "df_AVAILABILITY.drop(columns=['availability'], inplace=True)\n",
    "print(df_AVAILABILITY.head())"
   ]
  },
  {
   "cell_type": "code",
   "execution_count": 16,
   "metadata": {},
   "outputs": [
    {
     "name": "stdout",
     "output_type": "stream",
     "text": [
      "_id                 0\n",
      "availability_30     0\n",
      "availability_60     0\n",
      "availability_90     0\n",
      "availability_365    0\n",
      "dtype: int64\n"
     ]
    }
   ],
   "source": [
    "print(df_AVAILABILITY.isnull().sum())"
   ]
  },
  {
   "cell_type": "markdown",
   "metadata": {},
   "source": [
    "### 5. Amenties DataFrame"
   ]
  },
  {
   "cell_type": "code",
   "execution_count": 17,
   "metadata": {},
   "outputs": [],
   "source": [
    "def amenities_SORT(x):\n",
    "    a = x\n",
    "    a.sort(reverse=False)\n",
    "    return a\n",
    "\n",
    "data_LIST5 = []\n",
    "for i in db.Data.find( {}, {'_id':1, 'amenities':1}):\n",
    "    data_LIST5.append(i)\n",
    "\n",
    "df_AMENITIES = pd.DataFrame(data_LIST5)\n",
    "df_AMENITIES['amenities'] = df_AMENITIES['amenities'].apply(lambda x: amenities_SORT(x))\n"
   ]
  },
  {
   "cell_type": "code",
   "execution_count": 18,
   "metadata": {},
   "outputs": [
    {
     "name": "stdout",
     "output_type": "stream",
     "text": [
      "        _id                                          amenities\n",
      "0   1003530  [Air conditioning, Buzzer/wireless intercom, D...\n",
      "1  10133554  [Air conditioning, Building staff, Dryer, Esse...\n",
      "2  10059872  [24-hour check-in, Air conditioning, Doorman, ...\n",
      "3  10084023  [Air conditioning, Dishes and silverware, Elev...\n",
      "4  10091713  [Bed linens, Dryer, Elevator, Essentials, Ethe...\n"
     ]
    }
   ],
   "source": [
    "print(df_AMENITIES.head())"
   ]
  },
  {
   "cell_type": "code",
   "execution_count": 19,
   "metadata": {},
   "outputs": [
    {
     "name": "stdout",
     "output_type": "stream",
     "text": [
      "_id          0\n",
      "amenities    0\n",
      "dtype: int64\n"
     ]
    }
   ],
   "source": [
    "print(df_AMENITIES.isnull().sum())"
   ]
  },
  {
   "cell_type": "code",
   "execution_count": 20,
   "metadata": {},
   "outputs": [],
   "source": [
    "df = pd.merge(df_ROOMS, df_HOST, on='_id')\n",
    "df = pd.merge(df, df_ADDRESS, on='_id')\n",
    "df = pd.merge(df, df_AVAILABILITY, on='_id')\n",
    "df=pd.merge(df, df_AMENITIES, on='_id')\n",
    "#df.to_csv('Cleaned_Dataset.csv', index=False)"
   ]
  },
  {
   "cell_type": "code",
   "execution_count": null,
   "metadata": {},
   "outputs": [],
   "source": []
  }
 ],
 "metadata": {
  "kernelspec": {
   "display_name": "Python 3",
   "language": "python",
   "name": "python3"
  },
  "language_info": {
   "codemirror_mode": {
    "name": "ipython",
    "version": 3
   },
   "file_extension": ".py",
   "mimetype": "text/x-python",
   "name": "python",
   "nbconvert_exporter": "python",
   "pygments_lexer": "ipython3",
   "version": "3.12.2"
  }
 },
 "nbformat": 4,
 "nbformat_minor": 2
}
